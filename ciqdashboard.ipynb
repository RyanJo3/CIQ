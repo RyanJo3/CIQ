{
 "cells": [
  {
   "cell_type": "code",
   "execution_count": 1,
   "id": "44931717-ff55-4002-89b5-8490b38fa391",
   "metadata": {},
   "outputs": [
    {
     "name": "stderr",
     "output_type": "stream",
     "text": [
      "ERROR: Could not find a version that satisfies the requirement matplotlib.font_manager (from versions: none)\n",
      "ERROR: No matching distribution found for matplotlib.font_manager\n",
      "ERROR: Could not find a version that satisfies the requirement os (from versions: none)\n",
      "ERROR: No matching distribution found for os\n"
     ]
    },
    {
     "name": "stdout",
     "output_type": "stream",
     "text": [
      "Collecting pathlib\n",
      "  Downloading pathlib-1.0.1-py3-none-any.whl.metadata (5.1 kB)\n",
      "Downloading pathlib-1.0.1-py3-none-any.whl (14 kB)\n",
      "Installing collected packages: pathlib\n",
      "Successfully installed pathlib-1.0.1\n"
     ]
    }
   ],
   "source": [
    "!pip install matplotlib.font_manager\n",
    "!pip install os\n",
    "!pip install pathlib"
   ]
  },
  {
   "cell_type": "code",
   "execution_count": 2,
   "id": "2cea2f0d-820e-483e-a0b2-f8f127df933a",
   "metadata": {},
   "outputs": [],
   "source": [
    "import pandas as pd\n",
    "import seaborn as sns\n",
    "import matplotlib.pyplot as plt\n",
    "import streamlit as st\n",
    "import matplotlib.font_manager as fm\n",
    "import os\n",
    "from pathlib import Path"
   ]
  },
  {
   "cell_type": "code",
   "execution_count": 3,
   "id": "354bbc30-c135-4290-aee4-2eac752fb948",
   "metadata": {},
   "outputs": [
    {
     "name": "stdout",
     "output_type": "stream",
     "text": [
      "'NanumGothic' 폰트가 성공적으로 설정되었습니다.\n"
     ]
    }
   ],
   "source": [
    "def set_korean_font():\n",
    "    # 리포지토리 최상위 경로에 있는 폰트 파일 이름 지정\n",
    "    font_path = 'NanumGothic.ttf'  # NanumGothic.ttf 파일 이름\n",
    "    \n",
    "    # 폰트 파일이 존재하는지 확인하고 설정\n",
    "    if os.path.exists(font_path):\n",
    "        font_properties = fm.FontProperties(fname=font_path)\n",
    "        plt.rcParams['font.family'] = font_properties.get_name()  # matplotlib에 등록된 폰트 이름 사용\n",
    "        print(f\"'{font_properties.get_name()}' 폰트가 성공적으로 설정되었습니다.\")\n",
    "    else:\n",
    "        # 폰트 파일이 존재하지 않으면 기본 폰트로 설정\n",
    "        plt.rcParams['font.family'] = 'Arial'\n",
    "        print(\"폰트 파일을 찾을 수 없습니다. 기본 폰트로 설정합니다.\")\n",
    "\n",
    "    # 마이너스 기호 깨짐 방지 설정\n",
    "    plt.rcParams['axes.unicode_minus'] = False\n",
    "\n",
    "# 폰트 설정 호출\n",
    "set_korean_font()"
   ]
  },
  {
   "cell_type": "code",
   "execution_count": 4,
   "id": "959e65a3-64e2-433b-9e61-d10ba843a1e0",
   "metadata": {},
   "outputs": [],
   "source": [
    "def load_data(file_path):\n",
    "    df = pd.read_excel(file_path)\n",
    "\n",
    "    # 결측치 처리: 불량 부품 열의 결측치를 '제안'으로 대체\n",
    "    if '구분2' in df.columns:\n",
    "        df['구분2'] = df['구분2'].fillna('제안')\n",
    "    \n",
    "    return df"
   ]
  },
  {
   "cell_type": "code",
   "execution_count": 5,
   "id": "739e4f6b-62ee-468a-ab28-75fb8306062a",
   "metadata": {},
   "outputs": [],
   "source": [
    "def visualize_data(df):\n",
    "    st.title(\"CIQ 데이터 시각화 대시보드\")\n",
    "\n",
    "    col1, col2 = st.columns(2)\n",
    "    \n",
    "    # 첫 번째 그래프: 발생월 별 불량 유형 분포 (boxplot)\n",
    "    with col1:\n",
    "        st.subheader(\"발생월 별 불량 유형 분포 (Boxplot)\")\n",
    "        fig, ax = plt.subplots(figsize=(10, 5))\n",
    "        sns.boxplot(data=df, x='발생월', y='보고 구분', palette='Set3', ax=ax)\n",
    "        ax.set_title('발생월 별 불량 유형 분포', fontsize=16)\n",
    "        ax.set_xlabel('발생월', fontsize=14)\n",
    "        ax.set_ylabel('보고 구분', fontsize=14)\n",
    "        st.pyplot(fig)\n",
    "\n",
    "    # 두 번째 그래프: 불량 부품 별 상위 10개 항목 분포 (barplot)\n",
    "    with col2:\n",
    "        st.subheader(\"불량 부품 별 상위 10개 항목 분포 (Barplot)\")\n",
    "        top_10_parts = df['구분2'].value_counts().nlargest(10).index\n",
    "        filtered_df = df[df['구분2'].isin(top_10_parts)]\n",
    "        fig, ax = plt.subplots(figsize=(10, 5))\n",
    "        sns.barplot(data=filtered_df, x='구분2', y='발생월', estimator=lambda x: len(x) / len(filtered_df) * 100, palette='coolwarm', order=top_10_parts, ax=ax)\n",
    "        ax.set_xticklabels(ax.get_xticklabels(), rotation=45, ha='right')\n",
    "        ax.set_title('불량 부품 별 상위 10개 항목 분포', fontsize=16)\n",
    "        ax.set_xlabel('불량 부품', fontsize=14)\n",
    "        ax.set_ylabel('비율 (%)', fontsize=14)\n",
    "        st.pyplot(fig)\n",
    "\n",
    "    # 세 번째 줄: 불량 유형 별 제품군 분포 (heatmap)\n",
    "    with st.container():\n",
    "        st.subheader(\"불량 유형 별 제품군 분포 (Heatmap)\")\n",
    "        if '보고 구분' in df.columns and 'E:P' in df.columns:\n",
    "            pivot_table = pd.crosstab(df['보고 구분'], df['E:P'])\n",
    "            fig, ax = plt.subplots(figsize=(12, 6))\n",
    "            sns.heatmap(pivot_table, annot=True, fmt=\"d\", cmap=\"YlGnBu\", linewidths=.5, ax=ax)\n",
    "            ax.set_title('불량 유형 별 제품군 분포', fontsize=16)\n",
    "            ax.set_xlabel('E:P', fontsize=14)\n",
    "            ax.set_ylabel('보고 구분', fontsize=14)\n",
    "            st.pyplot(fig)\n",
    "        else:\n",
    "            st.write(\"열 '보고 구분' 또는 'E:P'이 데이터에 없습니다.\")\n",
    "\n",
    "    # 네 번째 줄: 담당팀 별 불량 유형 (heatmap)\n",
    "    with st.container():\n",
    "        st.subheader(\"담당팀 별 불량 유형 분포 (Heatmap)\")\n",
    "        if '담당팀' in df.columns and '보고 구분' in df.columns:\n",
    "            pivot_table_team = pd.crosstab(df['담당팀'], df['보고 구분'])\n",
    "            fig, ax = plt.subplots(figsize=(12, 6))\n",
    "            sns.heatmap(pivot_table_team, annot=True, fmt=\"d\", cmap=\"YlOrBr\", linewidths=.5, ax=ax)\n",
    "            ax.set_title('담당팀 별 불량 유형 분포', fontsize=16)\n",
    "            ax.set_xlabel('보고 구분', fontsize=14)\n",
    "            ax.set_ylabel('담당팀', fontsize=14)\n",
    "            st.pyplot(fig)\n",
    "        else:\n",
    "            st.write(\"열 '담당팀' 또는 '보고 구분'이 데이터에 없습니다.\")"
   ]
  },
  {
   "cell_type": "code",
   "execution_count": 6,
   "id": "9486befa-1cff-4f1c-9d54-b39c6a79664b",
   "metadata": {},
   "outputs": [],
   "source": [
    "def get_latest_file(folder_path):\n",
    "    folder = Path(folder_path)\n",
    "    files = list(folder.glob('*.xlsx'))\n",
    "    if not files:\n",
    "        return None\n",
    "    latest_file = max(files, key=os.path.getctime)\n",
    "    return latest_file"
   ]
  },
  {
   "cell_type": "code",
   "execution_count": 7,
   "id": "4c55a320-37b3-49d8-9e12-c3d604eae948",
   "metadata": {},
   "outputs": [],
   "source": [
    "def main():\n",
    "    st.sidebar.title(\"엑셀 파일 자동 로드\")\n",
    "    folder_path = st.sidebar.text_input(\"폴더 경로를 입력하세요\", value=\"data\")\n",
    "\n",
    "    if folder_path:\n",
    "        latest_file = get_latest_file(folder_path)\n",
    "        if latest_file:\n",
    "            df = load_data(latest_file)\n",
    "            st.write(\"데이터 프레임 미리보기\", df.head())\n",
    "            visualize_data(df)\n",
    "        else:\n",
    "            st.write(\"폴더에 엑셀 파일이 없습니다.\")\n",
    "    else:\n",
    "        st.write(\"폴더 경로를 입력하세요.\")"
   ]
  },
  {
   "cell_type": "code",
   "execution_count": 8,
   "id": "9803c521-1d9a-490c-b0ac-6a4d26491614",
   "metadata": {},
   "outputs": [
    {
     "name": "stderr",
     "output_type": "stream",
     "text": [
      "2024-09-20 08:26:59.310 WARNING streamlit.runtime.scriptrunner_utils.script_run_context: Thread 'MainThread': missing ScriptRunContext! This warning can be ignored when running in bare mode.\n",
      "2024-09-20 08:27:02.793 \n",
      "  \u001b[33m\u001b[1mWarning:\u001b[0m to view this Streamlit app on a browser, run it with the following\n",
      "  command:\n",
      "\n",
      "    streamlit run C:\\Users\\hyuntae.jo\\AppData\\Local\\Programs\\Python\\Python312\\Lib\\site-packages\\ipykernel_launcher.py [ARGUMENTS]\n",
      "2024-09-20 08:27:02.794 Thread 'MainThread': missing ScriptRunContext! This warning can be ignored when running in bare mode.\n",
      "2024-09-20 08:27:02.795 Thread 'MainThread': missing ScriptRunContext! This warning can be ignored when running in bare mode.\n",
      "2024-09-20 08:27:02.795 Thread 'MainThread': missing ScriptRunContext! This warning can be ignored when running in bare mode.\n",
      "2024-09-20 08:27:02.796 Thread 'MainThread': missing ScriptRunContext! This warning can be ignored when running in bare mode.\n",
      "2024-09-20 08:27:02.797 Session state does not function when running a script without `streamlit run`\n",
      "2024-09-20 08:27:02.798 Thread 'MainThread': missing ScriptRunContext! This warning can be ignored when running in bare mode.\n",
      "2024-09-20 08:27:02.799 Thread 'MainThread': missing ScriptRunContext! This warning can be ignored when running in bare mode.\n",
      "2024-09-20 08:27:02.800 Thread 'MainThread': missing ScriptRunContext! This warning can be ignored when running in bare mode.\n",
      "2024-09-20 08:27:02.801 Thread 'MainThread': missing ScriptRunContext! This warning can be ignored when running in bare mode.\n",
      "2024-09-20 08:27:02.802 Thread 'MainThread': missing ScriptRunContext! This warning can be ignored when running in bare mode.\n",
      "2024-09-20 08:27:02.802 Thread 'MainThread': missing ScriptRunContext! This warning can be ignored when running in bare mode.\n"
     ]
    }
   ],
   "source": [
    "if __name__ == '__main__':\n",
    "    main()"
   ]
  },
  {
   "cell_type": "code",
   "execution_count": null,
   "id": "3c94c3be-84dc-432d-8ca2-319cecdfad6c",
   "metadata": {},
   "outputs": [],
   "source": []
  }
 ],
 "metadata": {
  "kernelspec": {
   "display_name": "Python 3 (ipykernel)",
   "language": "python",
   "name": "python3"
  },
  "language_info": {
   "codemirror_mode": {
    "name": "ipython",
    "version": 3
   },
   "file_extension": ".py",
   "mimetype": "text/x-python",
   "name": "python",
   "nbconvert_exporter": "python",
   "pygments_lexer": "ipython3",
   "version": "3.12.6"
  }
 },
 "nbformat": 4,
 "nbformat_minor": 5
}
