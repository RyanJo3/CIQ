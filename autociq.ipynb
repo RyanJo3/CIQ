{
 "cells": [
  {
   "cell_type": "code",
   "execution_count": 1,
   "id": "92abc740",
   "metadata": {},
   "outputs": [],
   "source": [
    "import pandas as pd\n",
    "from sklearn.preprocessing import LabelEncoder\n",
    "from sklearn.ensemble import RandomForestClassifier"
   ]
  },
  {
   "cell_type": "code",
   "execution_count": 53,
   "id": "33cbf816",
   "metadata": {},
   "outputs": [],
   "source": [
    "# 기존 데이터 읽기\n",
    "df = pd.read_excel('dashboard.xlsx')  # 기존 엑셀 파일명 변경\n",
    "\n",
    "# 새로운 데이터 읽기\n",
    "new_data = pd.read_excel('dashboard_0922.xlsx')  # 새로운 데이터 엑셀 파일명 변경"
   ]
  },
  {
   "cell_type": "code",
   "execution_count": 54,
   "id": "26ed58bc",
   "metadata": {},
   "outputs": [],
   "source": [
    "# '제품군' 열에서 앞의 4글자 제거\n",
    "df['E:P'] = df['E:P'].astype(str).str[4:]\n",
    "\n",
    "# '구분2', '구분3' 열의 결측치를 '제안'으로 채움\n",
    "df['구분2'] = df['구분2'].fillna('제안')\n",
    "df['구분3'] = df['구분3'].fillna('제안')\n",
    "\n",
    "# '구분2', '구분3' 열의 결측치를 '제안'으로 채움\n",
    "new_data['구분2'] = new_data['구분2'].fillna('제안')\n",
    "new_data['구분3'] = new_data['구분3'].fillna('제안')"
   ]
  },
  {
   "cell_type": "code",
   "execution_count": 55,
   "id": "ebc3c18d",
   "metadata": {},
   "outputs": [],
   "source": [
    "# 기존 데이터 전처리\n",
    "X = df[['구분2']]\n",
    "y = df[['담당팀', '보고 구분']]\n"
   ]
  },
  {
   "cell_type": "code",
   "execution_count": 56,
   "id": "6ac6cd64",
   "metadata": {},
   "outputs": [],
   "source": [
    "# 라벨 인코딩\n",
    "X = df[['구분2']].copy()  # 슬라이스의 명확한 복사본 생성\n",
    "le = LabelEncoder()\n",
    "X.loc[:,'구분2'] = le.fit_transform(X['구분2'])"
   ]
  },
  {
   "cell_type": "code",
   "execution_count": 57,
   "id": "8ff6b7db",
   "metadata": {},
   "outputs": [
    {
     "data": {
      "text/plain": [
       "RandomForestClassifier()"
      ]
     },
     "execution_count": 57,
     "metadata": {},
     "output_type": "execute_result"
    }
   ],
   "source": [
    "# 모델 학습\n",
    "model = RandomForestClassifier()\n",
    "model.fit(X, y)"
   ]
  },
  {
   "cell_type": "code",
   "execution_count": 58,
   "id": "d733aa7a",
   "metadata": {},
   "outputs": [],
   "source": [
    "# 새로운 데이터에 대해 처리\n",
    "for index, row in new_data.iterrows():\n",
    "    if row['구분2'] == '제안':\n",
    "        # '구분2'가 '제안'일 때\n",
    "        new_data.at[index, '담당팀'] = row['E:P']  # '담당팀'에 'E:P'의 데이터 입력\n",
    "        new_data.at[index, '보고 구분'] = '제안'  # '보고 구분'에 '제안' 입력\n",
    "    elif pd.isnull(row['담당팀']) or pd.isnull(row['보고 구분']):\n",
    "        # '담당팀' 또는 '보고 구분'이 비어있을 때만 모델을 사용하여 예측\n",
    "        input_value = row['구분2']\n",
    "        \n",
    "        if input_value in le.classes_:\n",
    "            input_data = pd.DataFrame({'구분2': [input_value]})\n",
    "            input_data['구분2'] = le.transform(input_data['구분2'])\n",
    "            \n",
    "            # 모델 예측\n",
    "            prediction = model.predict(input_data)[0]\n",
    "            \n",
    "            # 예측 결과를 기존 데이터 구조에 맞게 업데이트\n",
    "            new_data.at[index, '담당팀'] = prediction[0]  # 예측된 담당팀 값 입력\n",
    "            new_data.at[index, '보고 구분'] = prediction[1]  # 예측된 보고 구분 값 입력\n"
   ]
  },
  {
   "cell_type": "code",
   "execution_count": 59,
   "id": "f3dfd4ad",
   "metadata": {},
   "outputs": [],
   "source": [
    "# 새로운 엑셀 파일에 예측 결과 업데이트 (기존 파일 덮어쓰기)\n",
    "new_data.to_excel('새로운데이터.xlsx', index=False)"
   ]
  },
  {
   "cell_type": "code",
   "execution_count": null,
   "id": "1ec2c0ef",
   "metadata": {},
   "outputs": [],
   "source": []
  }
 ],
 "metadata": {
  "kernelspec": {
   "display_name": "Python 3 (ipykernel)",
   "language": "python",
   "name": "python3"
  },
  "language_info": {
   "codemirror_mode": {
    "name": "ipython",
    "version": 3
   },
   "file_extension": ".py",
   "mimetype": "text/x-python",
   "name": "python",
   "nbconvert_exporter": "python",
   "pygments_lexer": "ipython3",
   "version": "3.9.13"
  }
 },
 "nbformat": 4,
 "nbformat_minor": 5
}
