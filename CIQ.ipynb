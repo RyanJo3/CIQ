{
 "cells": [
  {
   "cell_type": "code",
   "execution_count": 1,
   "id": "63e73917-2785-4834-9f96-9c7dceb2e6b4",
   "metadata": {},
   "outputs": [],
   "source": [
    "import pandas as pd\n",
    "import seaborn as sns\n",
    "import matplotlib.pyplot as plt\n",
    "import streamlit as st"
   ]
  },
  {
   "cell_type": "code",
   "execution_count": 5,
   "id": "75d0e5dd-74cf-498b-a5c0-96d803ce3d66",
   "metadata": {},
   "outputs": [],
   "source": [
    "def load_data(file_path):\n",
    "    df = pd.read_excel(file_path)\n",
    "\n",
    "    # 결측치 처리: 불량 부품 열의 결측치를 '제안'으로 대체\n",
    "    if '불량 부품' in df.columns:\n",
    "        df['불량 부품'] = df['불량 부품'].fillna('제안')\n",
    "    \n",
    "    return df\n"
   ]
  },
  {
   "cell_type": "code",
   "execution_count": 6,
   "id": "7293097b-adf3-4924-a033-8c79f62a0568",
   "metadata": {},
   "outputs": [],
   "source": [
    "def visualize_data(df):\n",
    "    st.title(\"CIQ 데이터 시각화 대시보드\")\n",
    "\n",
    "    # 발생월 별 불량 유형 분포 (violinplot으로 시각화)\n",
    "    st.subheader(\"발생월 별 불량 유형 분포\")\n",
    "    fig, ax = plt.subplots()\n",
    "    sns.violinplot(data=df, x='발생월', y='보고 구분', inner=\"quartile\", ax=ax)\n",
    "    st.pyplot(fig)\n",
    "\n",
    "    # 불량 부품 별 분포 (catplot으로 시각화)\n",
    "    st.subheader(\"불량 부품 별 분포\")\n",
    "    fig = sns.catplot(data=df, x='구분2', kind=\"count\", height=5, aspect=2)\n",
    "    st.pyplot(fig)\n",
    "\n",
    "    # 불량 유형 별 제품군 분포 (pointplot으로 시각화)\n",
    "    st.subheader(\"불량 유형 별 제품군 분포\")\n",
    "    fig, ax = plt.subplots()\n",
    "    sns.pointplot(data=df, x='보고 구분', y='E:P', ax=ax)\n",
    "    st.pyplot(fig)\n",
    "\n",
    "    # 담당팀 별 불량 유형 (heatmap으로 시각화)\n",
    "    st.subheader(\"담당팀 별 불량 유형 분포 (Heatmap)\")\n",
    "    pivot_table = pd.crosstab(df['담당팀'], df['보고 구분'])\n",
    "    fig, ax = plt.subplots(figsize=(10, 6))\n",
    "    sns.heatmap(pivot_table, annot=True, fmt=\"d\", cmap=\"Blues\", ax=ax)\n",
    "    st.pyplot(fig)"
   ]
  },
  {
   "cell_type": "code",
   "execution_count": 7,
   "id": "953c56f3-420d-40d3-834f-8029792d22e7",
   "metadata": {},
   "outputs": [
    {
     "name": "stderr",
     "output_type": "stream",
     "text": [
      "2024-09-18 11:49:24.976 WARNING streamlit.runtime.scriptrunner_utils.script_run_context: Thread 'MainThread': missing ScriptRunContext! This warning can be ignored when running in bare mode.\n",
      "2024-09-18 11:49:28.342 \n",
      "  \u001b[33m\u001b[1mWarning:\u001b[0m to view this Streamlit app on a browser, run it with the following\n",
      "  command:\n",
      "\n",
      "    streamlit run C:\\Users\\hyuntae.jo\\AppData\\Local\\Programs\\Python\\Python312\\Lib\\site-packages\\ipykernel_launcher.py [ARGUMENTS]\n",
      "2024-09-18 11:49:28.342 Thread 'MainThread': missing ScriptRunContext! This warning can be ignored when running in bare mode.\n",
      "2024-09-18 11:49:28.342 Thread 'MainThread': missing ScriptRunContext! This warning can be ignored when running in bare mode.\n",
      "2024-09-18 11:49:28.342 Thread 'MainThread': missing ScriptRunContext! This warning can be ignored when running in bare mode.\n",
      "2024-09-18 11:49:28.352 Thread 'MainThread': missing ScriptRunContext! This warning can be ignored when running in bare mode.\n",
      "2024-09-18 11:49:28.352 Thread 'MainThread': missing ScriptRunContext! This warning can be ignored when running in bare mode.\n",
      "2024-09-18 11:49:28.354 Thread 'MainThread': missing ScriptRunContext! This warning can be ignored when running in bare mode.\n",
      "2024-09-18 11:49:28.355 Thread 'MainThread': missing ScriptRunContext! This warning can be ignored when running in bare mode.\n",
      "2024-09-18 11:49:28.356 Thread 'MainThread': missing ScriptRunContext! This warning can be ignored when running in bare mode.\n",
      "2024-09-18 11:49:28.356 Thread 'MainThread': missing ScriptRunContext! This warning can be ignored when running in bare mode.\n"
     ]
    }
   ],
   "source": [
    "def main():\n",
    "    st.sidebar.title(\"엑셀 파일 업로드\")\n",
    "    uploaded_file = st.sidebar.file_uploader(\"엑셀 파일을 선택하세요\", type=[\"xlsx\"])\n",
    "\n",
    "    if uploaded_file:\n",
    "        df = load_data(uploaded_file)\n",
    "        st.write(\"데이터 프레임 미리보기\", df.head())\n",
    "        visualize_data(df)\n",
    "    else:\n",
    "        st.write(\"엑셀 파일을 업로드하세요.\")\n",
    "\n",
    "if __name__ == '__main__':\n",
    "    main()"
   ]
  }
 ],
 "metadata": {
  "kernelspec": {
   "display_name": "Python 3 (ipykernel)",
   "language": "python",
   "name": "python3"
  },
  "language_info": {
   "codemirror_mode": {
    "name": "ipython",
    "version": 3
   },
   "file_extension": ".py",
   "mimetype": "text/x-python",
   "name": "python",
   "nbconvert_exporter": "python",
   "pygments_lexer": "ipython3",
   "version": "3.12.6"
  }
 },
 "nbformat": 4,
 "nbformat_minor": 5
}
